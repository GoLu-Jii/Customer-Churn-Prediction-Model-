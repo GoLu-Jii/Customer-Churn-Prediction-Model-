{
 "cells": [
  {
   "cell_type": "code",
   "execution_count": 12,
   "id": "c57e681a-2a2a-465c-bc12-06e34de87ca9",
   "metadata": {},
   "outputs": [],
   "source": [
    "# --- Step 1: Imports + feature_engineering_fn definition ---\n",
    "import pandas as pd\n",
    "import joblib\n",
    "from sklearn.base import BaseEstimator, TransformerMixin\n",
    "\n",
    "# Recreate your feature engineering function (must match your training notebook)\n",
    "def feature_engineering_fn(df):\n",
    "    df = df.copy()\n",
    "    df['TotalCharges'] = pd.to_numeric(df['TotalCharges'], errors='coerce')\n",
    "    df['TotalCharges'].fillna(df['TotalCharges'].median(), inplace=True)\n",
    "\n",
    "    # tenure group bucketing\n",
    "    df['tenure_group'] = pd.cut(\n",
    "        df['tenure'],\n",
    "        bins=[0, 12, 24, 48, 60, 72],\n",
    "        labels=['0-12', '12-24', '24-48', '48-60', '60-72'],\n",
    "        include_lowest=True\n",
    "    )\n",
    "\n",
    "    # --- ENGINEERED FEATURES (must exist for your pipeline) ---\n",
    "    df['avg_monthly_from_total'] = df['TotalCharges'] / (df['tenure'].replace(0, 1))\n",
    "    df['tenure_per_monthly'] = df['tenure'] * df['MonthlyCharges']\n",
    "    df['has_streaming'] = ((df['StreamingTV'] == 'Yes') | (df['StreamingMovies'] == 'Yes')).astype(int)\n",
    "    df['is_auto_payment'] = df['PaymentMethod'].str.contains('automatic', case=False, na=False).astype(int)\n",
    "    df['has_support_services'] = ((df['OnlineSecurity'] == 'Yes') | (df['TechSupport'] == 'Yes')).astype(int)\n",
    "\n",
    "    return df\n"
   ]
  },
  {
   "cell_type": "code",
   "execution_count": 13,
   "id": "b9acb0fb-708f-4291-be1c-2a4d6587e33d",
   "metadata": {},
   "outputs": [
    {
     "name": "stdout",
     "output_type": "stream",
     "text": [
      "✅ Pipeline loaded successfully.\n"
     ]
    }
   ],
   "source": [
    "# --- Step 2: Load trained pipeline safely ---\n",
    "pipeline_path = \"final_churn_xgb_pipeline.pkl\"\n",
    "\n",
    "try:\n",
    "    model_pipeline = joblib.load(pipeline_path)\n",
    "    print(\"✅ Pipeline loaded successfully.\")\n",
    "except Exception as e:\n",
    "    print(f\"⚠️ Failed to load pipeline: {e}\")\n"
   ]
  },
  {
   "cell_type": "code",
   "execution_count": 14,
   "id": "aafedc74-e204-4197-9ecb-b6cb57dbcd36",
   "metadata": {},
   "outputs": [
    {
     "name": "stdout",
     "output_type": "stream",
     "text": [
      "\n",
      "===== Prediction Result =====\n",
      "Predicted Churn: Yes\n",
      "Churn Probability: 0.5997\n"
     ]
    }
   ],
   "source": [
    "# --- Step 3: Make a sample prediction ---\n",
    "new_data = pd.DataFrame({\n",
    "    'gender': ['Female'],\n",
    "    'SeniorCitizen': [0],\n",
    "    'Partner': ['Yes'],\n",
    "    'Dependents': ['No'],\n",
    "    'tenure': [24],\n",
    "    'PhoneService': ['Yes'],\n",
    "    'MultipleLines': ['No'],\n",
    "    'InternetService': ['Fiber optic'],\n",
    "    'OnlineSecurity': ['No'],\n",
    "    'OnlineBackup': ['Yes'],\n",
    "    'DeviceProtection': ['Yes'],\n",
    "    'TechSupport': ['No'],\n",
    "    'StreamingTV': ['Yes'],\n",
    "    'StreamingMovies': ['No'],\n",
    "    'Contract': ['Month-to-month'],\n",
    "    'PaperlessBilling': ['Yes'],\n",
    "    'PaymentMethod': ['Electronic check'],\n",
    "    'MonthlyCharges': [80.85],\n",
    "    'TotalCharges': ['1800.5']\n",
    "})\n",
    "\n",
    "pred = model_pipeline.predict(new_data)[0]\n",
    "prob = model_pipeline.predict_proba(new_data)[0, 1]\n",
    "\n",
    "print(\"\\n===== Prediction Result =====\")\n",
    "print(f\"Predicted Churn: {'Yes' if pred == 1 else 'No'}\")\n",
    "print(f\"Churn Probability: {prob:.4f}\")\n"
   ]
  },
  {
   "cell_type": "code",
   "execution_count": null,
   "id": "62e9257a-3527-4075-a357-e9c162618635",
   "metadata": {},
   "outputs": [],
   "source": []
  }
 ],
 "metadata": {
  "kernelspec": {
   "display_name": "Python 3 (ipykernel)",
   "language": "python",
   "name": "python3"
  },
  "language_info": {
   "codemirror_mode": {
    "name": "ipython",
    "version": 3
   },
   "file_extension": ".py",
   "mimetype": "text/x-python",
   "name": "python",
   "nbconvert_exporter": "python",
   "pygments_lexer": "ipython3",
   "version": "3.12.0"
  }
 },
 "nbformat": 4,
 "nbformat_minor": 5
}
